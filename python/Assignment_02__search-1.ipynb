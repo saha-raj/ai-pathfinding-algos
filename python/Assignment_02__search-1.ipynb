{
 "cells": [
  {
   "cell_type": "markdown",
   "id": "35299658-8ee0-4c20-a09f-997ec91498f1",
   "metadata": {},
   "source": [
    "# Week 2 - Search Algorithms\n",
    "## EAI 6000 / Spring A / 2023"
   ]
  },
  {
   "cell_type": "code",
   "execution_count": 1,
   "id": "08ee1501-9e24-4f92-a2cd-6073f051be08",
   "metadata": {},
   "outputs": [],
   "source": [
    "import math\n",
    "import numpy as np\n",
    "import matplotlib.pyplot as plt\n",
    "import copy\n",
    "import random\n",
    "from collections import deque"
   ]
  },
  {
   "cell_type": "markdown",
   "id": "de67ed5b-b63a-4eb1-84dc-f2f0268a90b3",
   "metadata": {},
   "source": [
    "## Part 1"
   ]
  },
  {
   "cell_type": "code",
   "execution_count": 2,
   "id": "1d4b99dd-9091-4991-b6ca-a8ab76e2b308",
   "metadata": {},
   "outputs": [],
   "source": [
    "def f(x):\n",
    "    return np.sin(x)*np.exp(x)"
   ]
  },
  {
   "cell_type": "code",
   "execution_count": 3,
   "id": "1afb685c-ae6b-4493-996a-af8af2778e2f",
   "metadata": {},
   "outputs": [],
   "source": [
    "# define xmin and xmax\n",
    "xmin = 2\n",
    "xmax = 4"
   ]
  },
  {
   "cell_type": "code",
   "execution_count": 4,
   "id": "950fbda5-ab06-48ea-a908-ba0a877cf415",
   "metadata": {},
   "outputs": [],
   "source": [
    "# define a list of 1000 values of x within the given range.\n",
    "x_arr = np.linspace(xmin, xmax, 1000)\n",
    "\n",
    "# find the values of f(x) for all values in x_arr\n",
    "y_arr = f(x_arr)"
   ]
  },
  {
   "cell_type": "code",
   "execution_count": 5,
   "id": "4f46c862-99f4-4096-af9c-fe31a7ff1e69",
   "metadata": {},
   "outputs": [
    {
     "data": {
      "image/png": "[encoded data removed]",
      "text/plain": [
       "<Figure size 640x480 with 1 Axes>"
      ]
     },
     "metadata": {},
     "output_type": "display_data"
    }
   ],
   "source": [
    "# Plot the function to visualize the root\n",
    "\n",
    "plt.plot(x_arr, y_arr)\n",
    "plt.axhline(0, color='black', linewidth=0.5)\n",
    "plt.xlabel('x')\n",
    "plt.ylabel('f(x)', rotation = 0)\n",
    "plt.xlim(2, 4)\n",
    "plt.ylim(-10, 10)\n",
    "\n",
    "# Display the plot\n",
    "plt.show()"
   ]
  },
  {
   "cell_type": "code",
   "execution_count": 6,
   "id": "e1719943-d8d6-4f74-8f8f-2d4ec390f551",
   "metadata": {},
   "outputs": [],
   "source": [
    "# write your code below\n",
    "\n"
   ]
  },
  {
   "cell_type": "markdown",
   "id": "e5abafb3-4306-491e-b848-d574eda46257",
   "metadata": {},
   "source": [
    "## Part 2"
   ]
  },
  {
   "cell_type": "markdown",
   "id": "f2c70ca2-d0c2-4e50-8f02-f9c374054609",
   "metadata": {},
   "source": [
    "### function definitions"
   ]
  },
  {
   "cell_type": "code",
   "execution_count": 7,
   "id": "d561ab87-e94d-41a7-98a1-5920ec8d5861",
   "metadata": {},
   "outputs": [],
   "source": [
    "# Define the function to find neighbor nodes\n",
    "def find_neighbors(node, grid):\n",
    "    neighbors = []\n",
    "    for dx in [-1, 0, 1]:\n",
    "        for dy in [-1, 0, 1]:\n",
    "            if dx == 0 and dy == 0:\n",
    "                continue  # ignore the current node\n",
    "            x, y = node[0] + dx, node[1] + dy\n",
    "            if x < 0 or x >= len(grid) or y < 0 or y >= len(grid[0]):\n",
    "                continue  # ignore nodes outside the grid\n",
    "            if grid[x][y] == 'X':\n",
    "                continue  # ignore obstacles\n",
    "            neighbors.append((x, y))\n",
    "    return neighbors\n"
   ]
  },
  {
   "cell_type": "code",
   "execution_count": 8,
   "id": "83512b34-c6e9-4d77-b881-13cbb3dc3972",
   "metadata": {},
   "outputs": [],
   "source": [
    "\n",
    "def breadth_first_search(grid, start, stop, obstacles):\n",
    "    # Initialize the queue and visited set\n",
    "    queue = deque([start])\n",
    "    visited = set([start])\n",
    "\n",
    "    # Keep track of the paths\n",
    "    paths = {start: []}\n",
    "\n",
    "    # Loop until the queue is empty\n",
    "    while queue:\n",
    "        # Get the next node from the queue\n",
    "        current = queue.popleft()\n",
    "\n",
    "        # Check if we've reached the goal node\n",
    "        if current == stop:\n",
    "            path = paths[current] + [current]\n",
    "            return path\n",
    "\n",
    "        # Check the neighbors of the current node\n",
    "        for neighbor in find_neighbors(current, grid):\n",
    "            if neighbor in visited or neighbor in obstacles:\n",
    "                continue  # ignore nodes in the visited set or obstacles\n",
    "\n",
    "            # Add the neighbor to the queue and visited set\n",
    "            queue.append(neighbor)\n",
    "            visited.add(neighbor)\n",
    "\n",
    "            # Update the path to the neighbor\n",
    "            paths[neighbor] = paths[current] + [current]\n",
    "\n",
    "    # If we get here, there is no path from start to stop\n",
    "    print(\"No path found\")\n",
    "    return None\n"
   ]
  },
  {
   "cell_type": "code",
   "execution_count": 9,
   "id": "d630e5da-f858-410e-b727-5c907d0907cb",
   "metadata": {},
   "outputs": [],
   "source": [
    "def depth_first_search(grid, start, stop, obstacles):\n",
    "    # Initialize the stack and visited set\n",
    "    stack = [start]\n",
    "    visited = set([start])\n",
    "\n",
    "    # Keep track of the paths\n",
    "    paths = {start: []}\n",
    "\n",
    "    # Loop until the stack is empty\n",
    "    while stack:\n",
    "        # Get the next node from the stack\n",
    "        current = stack.pop()\n",
    "\n",
    "        # Check if we've reached the goal node\n",
    "        if current == stop:\n",
    "            path = paths[current] + [current]\n",
    "            return path\n",
    "\n",
    "        # Check the neighbors of the current node\n",
    "        for neighbor in find_neighbors(current, grid):\n",
    "            if neighbor in visited or neighbor in obstacles:\n",
    "                continue  # ignore nodes in the visited set or obstacles\n",
    "\n",
    "            # Add the neighbor to the stack and visited set\n",
    "            stack.append(neighbor)\n",
    "            visited.add(neighbor)\n",
    "\n",
    "            # Update the path to the neighbor\n",
    "            paths[neighbor] = paths[current] + [current]\n",
    "\n",
    "    # If we get here, there is no path from start to stop\n",
    "    print(\"No path found\")\n",
    "    return None\n"
   ]
  },
  {
   "cell_type": "code",
   "execution_count": 10,
   "id": "fe7420b6-ff7e-4b96-87b3-928e392614fd",
   "metadata": {},
   "outputs": [],
   "source": [
    "def make_obstacles(GRID_SIZE, num_obstacles, start, stop):\n",
    "    \n",
    "    # Generate a set of random obstacle coordinates\n",
    "    obstacles = set()\n",
    "    while len(obstacles) < num_obstacles:\n",
    "        obstacle = (random.randint(0, GRID_SIZE-1), random.randint(0, GRID_SIZE-1))\n",
    "        if obstacle != start and obstacle != stop:\n",
    "            obstacles.add(obstacle)\n",
    "    \n",
    "    return obstacles\n",
    "\n",
    "def make_grid(GRID_SIZE, obstacles):\n",
    "    # Create the grid\n",
    "    grid = []\n",
    "    for i in range(GRID_SIZE):\n",
    "        row = []\n",
    "        for j in range(GRID_SIZE):\n",
    "            if (i, j) == start:\n",
    "                row.append('S')\n",
    "            elif (i, j) == stop:\n",
    "                # row.append('E')\n",
    "                row.append('E')\n",
    "            elif (i, j) in obstacles:\n",
    "                row.append('\\u25A0')\n",
    "                # row.append('\\u2B1B')\n",
    "                # row.append('\\u2B15')\n",
    "            else:\n",
    "                row.append('.')\n",
    "                # row.append('\\u00B7')\n",
    "                # row.append(' ')\n",
    "                # row.append('\\u00A0\\u2022\\u00A0')\n",
    "        grid.append(row)\n",
    "\n",
    "    return grid\n",
    "\n",
    "def draw_grid(grid):\n",
    "\n",
    "    # Print the grid\n",
    "    for row in grid:\n",
    "        print(' '.join(row))\n",
    "        \n",
    "def update_grid(grid, path):\n",
    "    \n",
    "    gridup = copy.deepcopy(grid)\n",
    "    \n",
    "    # Mark the path on the grid\n",
    "    if path is not None:\n",
    "        for node in path:\n",
    "            x, y = node\n",
    "            if gridup[x][y] != 'S' and gridup[x][y] != 'E':\n",
    "                gridup[x][y] = '○' #'\\u2B55' #'\\u25EF' #'\\u25CB' #'*'\n",
    "                \n",
    "    return gridup"
   ]
  },
  {
   "cell_type": "markdown",
   "id": "e7be0517-a845-4048-8ebc-629f6ae76c76",
   "metadata": {},
   "source": [
    "### generate grid, start and stop, and obstacles"
   ]
  },
  {
   "cell_type": "code",
   "execution_count": 11,
   "id": "e4eea4ae-6321-43f5-a2f0-2bc5dc7377a1",
   "metadata": {},
   "outputs": [],
   "source": [
    "\n",
    "# Define the dimensions of the grid\n",
    "GRID_SIZE = 15\n",
    "\n",
    "# randomize the start and stop nodes\n",
    "start = (random.randint(0, GRID_SIZE-1), random.randint(0, GRID_SIZE-1))\n",
    "stop  = (random.randint(0, GRID_SIZE-1), random.randint(0, GRID_SIZE-1))\n",
    "\n",
    "# or actually just fix the start and end points. \n",
    "start = (0, 0)\n",
    "stop  = (GRID_SIZE-1, GRID_SIZE-1)\n",
    "\n",
    "# Define the number of obstacles, which is related to the grid size. \n",
    "# feel free to adjust the parameters in the formula to produce more or less obstacles\n",
    "num_obstacles = random.randint(int(GRID_SIZE*GRID_SIZE/4), int(GRID_SIZE*GRID_SIZE/2))\n",
    "\n"
   ]
  },
  {
   "cell_type": "code",
   "execution_count": 13,
   "id": "de6f98f2-cbf9-4ce6-9d3b-647654c2eb9f",
   "metadata": {},
   "outputs": [
    {
     "name": "stdout",
     "output_type": "stream",
     "text": [
      "S . ■ . . ■ . ■ . . . . . ■ .\n",
      ". ■ . . . . . ■ . . . . . . .\n",
      ". . . . ■ . ■ . . . . . ■ . ■\n",
      "■ . ■ ■ . . ■ ■ . . ■ . . . ■\n",
      "■ . ■ . . ■ . . . . . ■ . . ■\n",
      ". ■ . . . . ■ . . ■ ■ ■ ■ . .\n",
      "■ . . . ■ . ■ ■ ■ ■ . ■ . . .\n",
      ". . . . . . . ■ ■ . . ■ . ■ ■\n",
      "■ . ■ . . ■ . . . . . . . ■ .\n",
      ". . ■ . ■ ■ . . . . . . ■ . ■\n",
      "■ ■ . . . . ■ ■ . . . ■ . . .\n",
      "■ . . . . . . . . . . . . . ■\n",
      ". . ■ . . . . ■ ■ . . . . . .\n",
      ". . . . . . . . ■ . ■ . ■ . .\n",
      ". . ■ ■ . . . ■ . . ■ . ■ . E\n"
     ]
    }
   ],
   "source": [
    "# create a grid and draw it\n",
    "\n",
    "obstacles = make_obstacles(GRID_SIZE, num_obstacles, start, stop)\n",
    "mygrid    = make_grid(GRID_SIZE, obstacles)\n",
    "draw_grid(mygrid)\n"
   ]
  },
  {
   "cell_type": "markdown",
   "id": "d9baa79b-c7aa-48d5-8ab4-af05061697d6",
   "metadata": {
    "tags": []
   },
   "source": [
    "### depth-first search"
   ]
  },
  {
   "cell_type": "code",
   "execution_count": 14,
   "id": "fb0b217d-3670-4a04-954c-a8710ac77294",
   "metadata": {},
   "outputs": [
    {
     "name": "stdout",
     "output_type": "stream",
     "text": [
      "S . ■ . . ■ . ■ . . . . . ■ .\n",
      "○ ■ . . . . . ■ . . . . . . .\n",
      ". ○ . . ■ . ■ . . . . . ■ . ■\n",
      "■ ○ ■ ■ . . ■ ■ . . ■ . . . ■\n",
      "■ ○ ■ . . ■ . . . . . ■ . . ■\n",
      ". ■ ○ . . . ■ . . ■ ■ ■ ■ . .\n",
      "■ . . ○ ■ . ■ ■ ■ ■ . ■ . . .\n",
      ". . . . ○ . . ■ ■ . . ■ . ■ ■\n",
      "■ . ■ . ○ ■ . . . . . . . ■ .\n",
      ". . ■ ○ ■ ■ . . . . . . ■ . ■\n",
      "■ ■ . . ○ . ■ ■ . . . ■ . . .\n",
      "■ . . . . ○ . . . . . . . . ■\n",
      ". . ■ . . . ○ ■ ■ . ○ . ○ . .\n",
      ". . . . . . . ○ ■ ○ ■ ○ ■ ○ .\n",
      ". . ■ ■ . . . ■ ○ . ■ . ■ . E\n"
     ]
    }
   ],
   "source": [
    "path_DF = depth_first_search(mygrid, start, stop, obstacles)\n",
    "grid_DF = update_grid(mygrid, path_DF)\n",
    "draw_grid(grid_DF)"
   ]
  },
  {
   "cell_type": "markdown",
   "id": "432764b0-87ff-4fc1-9151-1d7af2a9f048",
   "metadata": {
    "tags": []
   },
   "source": [
    "### breadth-first search"
   ]
  },
  {
   "cell_type": "code",
   "execution_count": 89,
   "id": "77c9cd87-def3-449b-be04-e40ada6cb044",
   "metadata": {},
   "outputs": [
    {
     "name": "stdout",
     "output_type": "stream",
     "text": [
      "S ○ ○ ○ ■ . . . . . ■ . ■ . .\n",
      "■ ■ ■ . ○ ○ ■ . ■ ■ . . . ■ .\n",
      ". ■ ■ . ■ ■ ○ . ■ . . ■ . ■ ■\n",
      ". . ■ . . ■ ○ . . . . . . ■ .\n",
      ". . . . . . . ○ . . . ■ . . ■\n",
      ". . . . . ■ ■ ■ ○ . . . ■ ■ ■\n",
      ". . . . . ■ . ○ . ■ . ■ ■ . ■\n",
      "■ . . . . . ■ ■ ○ . . ■ . . ■\n",
      ". . . ■ . ■ ■ ■ . ○ ■ . . ■ .\n",
      ". . . ■ . . ■ . ■ ■ ○ ■ . . .\n",
      "■ . ■ . . ■ . . ■ ■ ○ ■ . ■ .\n",
      ". . . . . ■ . . ■ . ■ ○ ■ ■ .\n",
      ". . ■ . ■ ■ ■ . . . ■ ○ ■ . ■\n",
      "■ ■ . . ■ ■ . ■ . . . ■ ○ ○ .\n",
      ". ■ . ■ ■ ■ . . . . ■ ■ ■ ■ E\n"
     ]
    }
   ],
   "source": [
    "path_BF = breadth_first_search(mygrid, start, stop, obstacles)\n",
    "grid_BF = update_grid(mygrid, path_BF)\n",
    "draw_grid(grid_BF)"
   ]
  },
  {
   "cell_type": "code",
   "execution_count": null,
   "id": "0bcb1095-5479-45a0-9123-77ca1e1fba4b",
   "metadata": {},
   "outputs": [],
   "source": []
  },
  {
   "cell_type": "code",
   "execution_count": null,
   "id": "1c177f5b-f438-4333-8370-d89ae54dfa88",
   "metadata": {},
   "outputs": [],
   "source": []
  }
 ],
 "metadata": {
  "kernelspec": {
   "display_name": "base",
   "language": "python",
   "name": "python3"
  },
  "language_info": {
   "codemirror_mode": {
    "name": "ipython",
    "version": 3
   },
   "file_extension": ".py",
   "mimetype": "text/x-python",
   "name": "python",
   "nbconvert_exporter": "python",
   "pygments_lexer": "ipython3",
   "version": "3.11.5"
  }
 },
 "nbformat": 4,
 "nbformat_minor": 5
}
